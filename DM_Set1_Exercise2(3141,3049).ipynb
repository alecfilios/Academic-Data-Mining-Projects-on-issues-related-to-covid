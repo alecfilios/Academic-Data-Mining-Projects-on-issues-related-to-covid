{
 "cells": [
  {
   "cell_type": "markdown",
   "metadata": {
    "id": "Wia7vcu2fC09"
   },
   "source": [
    "# <div style=\"text-align:center\">  CSE 012 \n",
    "# <div style=\"text-align:center\"> DATA MINING \n",
    "## <div style=\"text-align:center\"> SET 1\n",
    "\n",
    "\n",
    "\n",
    "\n",
    "\n",
    "\n",
    "\n",
    "## <div style=\"text-align:center\"> Authors:\n",
    "## <div style=\"text-align:center\"> Φίλιος Αλέξανδρος AM:3141 (Filios Alexandros)\n",
    "## <div style=\"text-align:center\"> Νταλαγιώργος Αχιλλέας ΑΜ:3049 (Ntalagiorgos Achilleas)\n",
    "\n",
    "# <div style=\"text-align:center\"> UNIVERSITY OF IOANNINA\n"
   ]
  },
  {
   "cell_type": "markdown",
   "metadata": {
    "id": "ElWODCT7tjk2"
   },
   "source": [
    "### Exercise 2. Triangle Inequality\n",
    "\n",
    "\n",
    "\n",
    "\n",
    "\n",
    "\n",
    "\n",
    "\n",
    "\n",
    "#### 2.1\n",
    "\n",
    "A distance function d is a distance metric if it is a function from pairs of objects to real numbers such that:\n",
    "1. 𝑑(𝑥, 𝑦) ≥ 0. (non-negativity)\n",
    "2. 𝑑(𝑥, 𝑦) = 0 iff 𝑥 = 𝑦. (identity)\n",
    "3. 𝑑(𝑥,𝑦) = 𝑑(𝑦,𝑥).(symmetry)\n",
    "4. 𝑑(𝑥, 𝑦) ≤ 𝑑(𝑥, 𝑧) + 𝑑(𝑧, 𝑦) (triangle inequality ).\n",
    "\n",
    "Due to the 4-th inequation we can assume that if a star-graph's vertices had a direct connection to each other, their distance would be less or equal to the one they already have. So we will collect all those inequations in which this assumption is true. \n",
    "\n",
    "The wheel-graph is made of a star-graph with k edges and a cycle-graph with k edges as well, total of 2k edges. \n",
    "Without loss of generality we name the center node of the star graph c.\n",
    "\n",
    "Generally the cost functions of the distances for the graphs are: \n",
    "\n",
    "Cycle-graph: $C_C(f) = \\sum_{(f(u),f(v))\\in Es} d(u,v)$\n",
    "\n",
    "Star-graph:   $C_S(f) = \\sum_{(f(u),f(c))\\in Es} d(u,c)$\n",
    "\n",
    "\n",
    "Wheel-graph: $C_W(f) = C_C(f) + C_S(f)$\n",
    "\n",
    "About the first k edges,for every pair of nodes u,v with $ (u,v)\\in Es ,  u \\ne c ,v \\ne c  , u\\ne v $ that appear in every wheel-graph it is true that:\n",
    "\n",
    "$$ d(u,v) \\leq d(u,c) + d(c,v) $$\n",
    "\n",
    "[Note: that we avoid the distances that are equal to 0 considering the identity]\n",
    "\n",
    "By adding by sides of inequality we get:\n",
    "\n",
    "$$ \\sum_{(u,v)\\in Ew } d(f(u),f(v)) \\leq \\sum_{(u,v)\\in Es } d(f(u),f(c)) + (c,v) \\Leftrightarrow_{symmetry}$$ \n",
    "$$ $$\n",
    "$$ \\sum_{(u,v)\\in Ew} d(f(u),f(v)) \\leq 2\\sum_{u\\in Es} d(f(u),f(c)) $$\n",
    "$$ $$\n",
    "By adding to both sides of the inequation the $ \\sum_{u\\in Es} d(f(u),f(c))$ , to include the distances to the center c from every other object.\n",
    "\n",
    "$$ \\sum_{(u,v)\\in Ew} d(f(u),f(v)) + \\sum_{(u,c)\\in Ew} d(f(u),f(c)) \\leq 3\\sum_{u\\in Es} d(f(u),f(c)) $$\n",
    "$$ $$\n",
    "The left part of the equation is the $C_W(f)$ as it contains all the costs of the distances of a star-graph + all the costs of the distances of the cycle-graph as for the right part , it's 3 times all the costs of the distances for a star-graph.Therefore we are given the final inequality which is the statement we were called to prove.\n",
    "\n",
    "$$ C_W(f) \\leq 3C_S(f) $$\n",
    "\n",
    "\n",
    "\n",
    "\n"
   ]
  },
  {
   "cell_type": "markdown",
   "metadata": {
    "id": "grFQOkRYXTOv"
   },
   "source": [
    "#### 2.2\n",
    "\n",
    "In this question we need to prove that $C_W(t) \\leq 3C_W(o)$ where t is the optimal assignment for the a star-graph and o is the optimal assignment for the wheel-graph. \n",
    "\n",
    "In the previous question 2.1 we proved that for any assignment of the star-graph it's true that: $ C_W(f) \\leq 3C_S(f) $. Based on that we can assume the followings: \n",
    "\n",
    "$ C_W(t) \\leq 3C_S(t) $ (1)\n",
    "\n",
    "As long as we prove that $C_W(t) \\leq  3C_S(t)  \\leq 3C_W(o) $ then of course we prove that $C_W(t) \\leq 3C_W(o)$ . The left side of the inequation is already proven so the only thing we are left to do is to prove that \n",
    "$$ 3C_S(t)  \\leq 3C_W(o) \\rightarrow $$\n",
    "$$ C_S(t)  \\leq C_W(o) \\rightarrow$$\n",
    "$$ C_S(t)  \\leq C_S(o) + C_C(o) $$\n",
    "$$ $$\n",
    "but it's $ C_S(t) \\leq C_S(o) $ and $ C_C(o) > 0 $\n",
    "so the inequation is always true. And as it follows we proved that $C_W(t) \\leq 3C_W(o)$\n",
    "\n",
    "\n",
    "\n",
    "\n",
    "\n",
    "\n",
    "\n",
    "\n",
    "\n"
   ]
  },
  {
   "cell_type": "code",
   "execution_count": null,
   "metadata": {},
   "outputs": [],
   "source": []
  }
 ],
 "metadata": {
  "colab": {
   "collapsed_sections": [],
   "name": "Data Mining Exercise 1 ( 3141,3049).ipynb",
   "provenance": [],
   "toc_visible": true
  },
  "kernelspec": {
   "display_name": "Python 3",
   "language": "python",
   "name": "python3"
  },
  "language_info": {
   "codemirror_mode": {
    "name": "ipython",
    "version": 3
   },
   "file_extension": ".py",
   "mimetype": "text/x-python",
   "name": "python",
   "nbconvert_exporter": "python",
   "pygments_lexer": "ipython3",
   "version": "3.7.6"
  }
 },
 "nbformat": 4,
 "nbformat_minor": 1
}
